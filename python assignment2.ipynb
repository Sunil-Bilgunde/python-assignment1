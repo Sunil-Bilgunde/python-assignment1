{
 "cells": [
  {
   "cell_type": "code",
   "execution_count": null,
   "id": "9fb47e3f",
   "metadata": {},
   "outputs": [],
   "source": [
    "1.What are the two values of the Boolean data type? How do you write them?\n",
    "Ans:- True and False are two values of the boolean data type. it represents any one of the value True or False.\n",
    "    for example- if 1<2 then it will be True and if 1>2 it will be false."
   ]
  },
  {
   "cell_type": "code",
   "execution_count": null,
   "id": "fc91b1fd",
   "metadata": {},
   "outputs": [],
   "source": [
    "2.What are the three different types of Boolean operators?\n",
    "Ans:- and, or, not are three different types of boolean operators."
   ]
  },
  {
   "cell_type": "code",
   "execution_count": null,
   "id": "d92c3cc9",
   "metadata": {},
   "outputs": [],
   "source": [
    "3. Make a list of each Boolean operators truth tables (i.e. every possible combination of Boolean\n",
    "values for the operator and what it evaluate ).\n",
    "Ans:- True and True\n",
    "      True or False\n",
    "    True or True"
   ]
  },
  {
   "cell_type": "code",
   "execution_count": null,
   "id": "0891790f",
   "metadata": {},
   "outputs": [],
   "source": [
    "#4. What are the values of the following expressions?\n",
    "(5>4) and 3==5 is false\n",
    "not (5>4) is false\n",
    "(5>4) or (3==5) is True\n",
    "not((5>4) or (3==5)) is False\n",
    "(True and True) and (True == False) is False\n",
    "(not False) or (not True) is True"
   ]
  },
  {
   "cell_type": "code",
   "execution_count": null,
   "id": "8da38808",
   "metadata": {},
   "outputs": [],
   "source": [
    "5. What are the six comparison operators?\n",
    "Ans:-six comparision operators are\n",
    "    ==(equal to),\n",
    "    >(greater than),\n",
    "    <(less than),\n",
    "    >=(greater than or equal to),\n",
    "    <=(less than or equal to),\n",
    "    !=(not equal to)"
   ]
  },
  {
   "cell_type": "code",
   "execution_count": null,
   "id": "ee40c2d6",
   "metadata": {},
   "outputs": [],
   "source": [
    "6. How do you tell the difference between the equal to and assignment operators?Describe a\n",
    "condition and when you would use one.\n",
    "Ans:- whenever we compare any value with other value then we use equal-to(==) and when we assign a variable name to any value\n",
    "    then we use assignment operator(=)\n",
    "     example:- a = 10 #this is the example of assignment operator as we have assigned a varibale to the value.\n",
    "        if a == 10:\n",
    "            print('this the example for == operator')"
   ]
  },
  {
   "cell_type": "code",
   "execution_count": null,
   "id": "6a8ec82c",
   "metadata": {},
   "outputs": [],
   "source": [
    "7. Identify the three blocks in this code:\n",
    "spam = 0\n",
    "if spam == 10: #this is the first block\n",
    "    print('eggs')\n",
    "if spam>5:     #this is the second block\n",
    "    print('bacon')\n",
    "else:          #this is the third block\n",
    "    print('ham')\n",
    "    print('spam')\n",
    "    print('spam')\n",
    "        "
   ]
  },
  {
   "cell_type": "code",
   "execution_count": null,
   "id": "3900c5aa",
   "metadata": {},
   "outputs": [],
   "source": [
    "8. Write code that prints Hello if 1 is stored in spam, prints Howdy if 2 is stored in spam, and prints\n",
    "Greetings! if anything else is stored in spam.\n",
    "Ans:- \n",
    "spam = 1\n",
    "while spam == 1:\n",
    "    print(\"Hello\")\n",
    "    spam=spam+1\n",
    "    if spam == 2:\n",
    "        print(\"Howdy\")\n",
    "else:\n",
    "        print(\"Greetings!\")"
   ]
  },
  {
   "cell_type": "code",
   "execution_count": null,
   "id": "50d2b48d",
   "metadata": {},
   "outputs": [],
   "source": [
    "9.If your programme is stuck in an endless loop, what keys you’ll press?\n",
    "Ans:- we can use break statement if a programme is stuck in endless loop."
   ]
  },
  {
   "cell_type": "code",
   "execution_count": null,
   "id": "cf5b230b",
   "metadata": {},
   "outputs": [],
   "source": [
    "10. How can you tell the difference between break and continue?\n",
    "Ans:- whenever we want to terminate or exit from a loop then we use break statement. Continue is a statement we use to skip the\n",
    "    iteration and redirect to the loop again."
   ]
  },
  {
   "cell_type": "code",
   "execution_count": 19,
   "id": "cacccfa3",
   "metadata": {},
   "outputs": [
    {
     "name": "stdout",
     "output_type": "stream",
     "text": [
      "0\n",
      "1\n",
      "2\n",
      "3\n",
      "4\n",
      "5\n",
      "6\n",
      "7\n",
      "8\n",
      "9\n"
     ]
    }
   ],
   "source": [
    "'''11. In a for loop, what is the difference between range(10), range(0, 10), and range(0, 10, 1)?\n",
    "Ans:- there is no difference between range(10), range(0, 10), and range(0, 10, 1) in for loop as\n",
    "    it gives the same data as (0,1,2,3,4,5,6,7,8,9)'''\n",
    "for i in range(10):\n",
    "    print(i)"
   ]
  },
  {
   "cell_type": "code",
   "execution_count": 20,
   "id": "d8d443f5",
   "metadata": {},
   "outputs": [
    {
     "name": "stdout",
     "output_type": "stream",
     "text": [
      "0\n",
      "1\n",
      "2\n",
      "3\n",
      "4\n",
      "5\n",
      "6\n",
      "7\n",
      "8\n",
      "9\n"
     ]
    }
   ],
   "source": [
    "for i in range(0,10):\n",
    "    print(i)"
   ]
  },
  {
   "cell_type": "code",
   "execution_count": 21,
   "id": "97848424",
   "metadata": {},
   "outputs": [
    {
     "name": "stdout",
     "output_type": "stream",
     "text": [
      "0\n",
      "1\n",
      "2\n",
      "3\n",
      "4\n",
      "5\n",
      "6\n",
      "7\n",
      "8\n",
      "9\n"
     ]
    }
   ],
   "source": [
    "for i in range(0,10,1): # it is described as [start,stop,step] so if we give 1 then bydefault it gives all the data\n",
    "    print(i)"
   ]
  },
  {
   "cell_type": "code",
   "execution_count": null,
   "id": "66908de4",
   "metadata": {},
   "outputs": [],
   "source": [
    "12. Write a short program that prints the numbers 1 to 10 using a for loop. Then write an equivalent\n",
    "program that prints the numbers 1 to 10 using a while loop.\n",
    "Ans:-\n",
    "#print number from 1 to 10 using for loop\n",
    "for i in range(1,11): \n",
    "    print(i)\n",
    "#print number from 1 to 10 using while loop\n",
    "a = 1\n",
    "while a <= 10:\n",
    "    print(a)\n",
    "    a+=1"
   ]
  },
  {
   "cell_type": "code",
   "execution_count": 22,
   "id": "68c29372",
   "metadata": {},
   "outputs": [
    {
     "name": "stdout",
     "output_type": "stream",
     "text": [
      "1\n",
      "2\n",
      "3\n",
      "4\n",
      "5\n",
      "6\n",
      "7\n",
      "8\n",
      "9\n",
      "10\n"
     ]
    }
   ],
   "source": [
    "for i in range(1,11): \n",
    "    print(i)"
   ]
  },
  {
   "cell_type": "code",
   "execution_count": 23,
   "id": "3a276541",
   "metadata": {},
   "outputs": [
    {
     "name": "stdout",
     "output_type": "stream",
     "text": [
      "1\n",
      "2\n",
      "3\n",
      "4\n",
      "5\n",
      "6\n",
      "7\n",
      "8\n",
      "9\n",
      "10\n"
     ]
    }
   ],
   "source": [
    "a = 1\n",
    "while a <= 10:\n",
    "    print(a)\n",
    "    a+=1"
   ]
  },
  {
   "cell_type": "code",
   "execution_count": null,
   "id": "9f65335c",
   "metadata": {},
   "outputs": [],
   "source": [
    "13. If you had a function named bacon() inside a module named spam, how would you call it after\n",
    "importing spam?"
   ]
  }
 ],
 "metadata": {
  "kernelspec": {
   "display_name": "Python 3 (ipykernel)",
   "language": "python",
   "name": "python3"
  },
  "language_info": {
   "codemirror_mode": {
    "name": "ipython",
    "version": 3
   },
   "file_extension": ".py",
   "mimetype": "text/x-python",
   "name": "python",
   "nbconvert_exporter": "python",
   "pygments_lexer": "ipython3",
   "version": "3.9.7"
  }
 },
 "nbformat": 4,
 "nbformat_minor": 5
}
