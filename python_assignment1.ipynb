{
 "cells": [
  {
   "cell_type": "code",
   "execution_count": null,
   "id": "93ba0ac0",
   "metadata": {},
   "outputs": [],
   "source": [
    "1. In the below elements which of them are values or an expression? eg:- values can be integer or string and expressions will be mathematical operators.\n",
    "* :- it is a mathematical operator used for multiplication\n",
    "\n",
    "'hello' :- this is a string value\n",
    "\n",
    "-87.8:- this is a float value\n",
    "\n",
    "- :- mathematical operator used for subraction\n",
    "\n",
    "/ :- mathematical operator used for division\n",
    "\n",
    "+\t:- mathematical operator used for addition\n",
    "\n",
    "6 :- integer value\n"
   ]
  },
  {
   "cell_type": "code",
   "execution_count": null,
   "id": "50fa4e8a",
   "metadata": {},
   "outputs": [],
   "source": [
    "2. What is the difference between string and variable?\n",
    "\n",
    "Ans:- String is a data type which contains a sequence of characters in it with doublt-quote or single-quote. We can use “ ” or ‘ ’ to create a string.\n",
    "Example:- “Data Science” or ‘Machine Learning’\n",
    "\n",
    "Variable is like a container where we store the values or it is the name given to a location in system memory. Variables can store any datatype like string, integers, floats, etc. and variable can be created only with alphabetic or using_ but cannot be created using numbers."
   ]
  },
  {
   "cell_type": "code",
   "execution_count": null,
   "id": "c9c8b073",
   "metadata": {},
   "outputs": [],
   "source": [
    "3. Describe three different data types.\n",
    "Ans:- Three different data types in python are: Integers, string and float. There are more data types available in python."
   ]
  },
  {
   "cell_type": "code",
   "execution_count": null,
   "id": "10c01850",
   "metadata": {},
   "outputs": [],
   "source": [
    "4. What is an expression made up of? What do all expressions do?\n",
    "Ans:- expressions are combination of operators, variables and literals. Expressions can perform different types of operations like arithmetic operations, logical operations "
   ]
  },
  {
   "cell_type": "code",
   "execution_count": null,
   "id": "05d56aeb",
   "metadata": {},
   "outputs": [],
   "source": [
    "5. This assignment statements, like spam = 10. What is the difference between an expression and a statement?\n",
    "Ans:- expressions are used to perform different kind of operations whereas statements are used to instruct the computer any actions.\n"
   ]
  },
  {
   "cell_type": "code",
   "execution_count": null,
   "id": "5393d8b6",
   "metadata": {},
   "outputs": [],
   "source": [
    "6. After running the following code, what does the variable bacon contain?\n",
    "bacon = 22\n",
    "bacon + 1\n",
    "Ans:- after running the code the bacon variable contain 23 and the type would be int."
   ]
  },
  {
   "cell_type": "code",
   "execution_count": null,
   "id": "e4750342",
   "metadata": {},
   "outputs": [],
   "source": [
    "7.What should the values of the following two terms be?\n",
    "'spam' + 'spamspam'# = the value should be ‘spamspamspam’ \n",
    "'spam' * 3 #= same as above(‘spamspamspam’)\n"
   ]
  },
  {
   "cell_type": "code",
   "execution_count": null,
   "id": "38d3848d",
   "metadata": {},
   "outputs": [],
   "source": [
    "8. Why is eggs a valid variable name while 100 is invalid?\n",
    "Ans:- eggs is a valid variable name because in python variables should start with alphabets or using_(underscore) but variables cannot be created using number hence 100 is invalid variable.\n"
   ]
  },
  {
   "cell_type": "code",
   "execution_count": null,
   "id": "98c29898",
   "metadata": {},
   "outputs": [],
   "source": [
    "9. What three functions can be used to get the integer, floating-point number, or string version of a value?\n",
    "Ans:- integer =  int(),  Floating-point number – float(),  String = str()"
   ]
  },
  {
   "cell_type": "code",
   "execution_count": null,
   "id": "92d85779",
   "metadata": {},
   "outputs": [],
   "source": [
    "10. Why does this expression cause an error? How can you fix it?\n",
    "'I have eaten ' + 99 + ' burritos.'\n",
    "Ans:- Given expression cause an error because we can concatenate only string to string but cannot concatenate string to an integer. We can fix this by 'I have eaten ' +  ' burritos.' Then it will get executed."
   ]
  }
 ],
 "metadata": {
  "kernelspec": {
   "display_name": "Python 3 (ipykernel)",
   "language": "python",
   "name": "python3"
  },
  "language_info": {
   "codemirror_mode": {
    "name": "ipython",
    "version": 3
   },
   "file_extension": ".py",
   "mimetype": "text/x-python",
   "name": "python",
   "nbconvert_exporter": "python",
   "pygments_lexer": "ipython3",
   "version": "3.9.7"
  }
 },
 "nbformat": 4,
 "nbformat_minor": 5
}
